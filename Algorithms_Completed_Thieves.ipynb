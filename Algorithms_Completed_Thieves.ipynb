{
 "cells": [
  {
   "cell_type": "markdown",
   "metadata": {},
   "source": [
    "# Intro to Algorithms"
   ]
  },
  {
   "cell_type": "markdown",
   "metadata": {},
   "source": [
    "## Tasks Today:\n",
    " \n",
    "1) <b>In-Place Algorithms</b> <br>\n",
    " &nbsp;&nbsp;&nbsp;&nbsp; a) Syntax <br>\n",
    " &nbsp;&nbsp;&nbsp;&nbsp; a) Out of Place Algorithm <br>\n",
    " &nbsp;&nbsp;&nbsp;&nbsp; b) In-Class Exercise #1 <br>\n",
    "2) <b>Two Pointers</b> <br>\n",
    "3) <b>Sorting Algorithms</b> <br>\n",
    "4) <b>Merge Sort</b> <br>\n",
    " &nbsp;&nbsp;&nbsp;&nbsp; a) Video on Algorithms <br>\n",
    " &nbsp;&nbsp;&nbsp;&nbsp; b) How it Works <br>\n",
    "5) <b>Exercises</b> <br>\n",
    " &nbsp;&nbsp;&nbsp;&nbsp; a) Exercise #1 - Reverse a List in Place Using an In-Place Algorithm <br>\n",
    " &nbsp;&nbsp;&nbsp;&nbsp; b) Exercise #2 - Find Distinct Words <br>\n",
    " &nbsp;&nbsp;&nbsp;&nbsp; c) Exercise #3 - Write a program to implement a Linear Search Algorithm. <br>"
   ]
  },
  {
   "cell_type": "markdown",
   "metadata": {},
   "source": [
    "## In-Place Algorithms"
   ]
  },
  {
   "cell_type": "markdown",
   "metadata": {},
   "source": [
    "#### Syntax"
   ]
  },
  {
   "cell_type": "code",
   "execution_count": 1,
   "metadata": {},
   "outputs": [
    {
     "name": "stdout",
     "output_type": "stream",
     "text": [
      "Before the swap: [1, 2, 3, 4]\n",
      "After the swap: [4, 2, 3, 1]\n"
     ]
    },
    {
     "data": {
      "text/plain": [
       "[23, 24, 8, 34]"
      ]
     },
     "execution_count": 1,
     "metadata": {},
     "output_type": "execute_result"
    }
   ],
   "source": [
    "# also known as a swap algorithm\n",
    "lst = [1,2,3,4]\n",
    "print(f'Before the swap: {lst}')\n",
    "\n",
    "lst[0], lst[-1] = lst[-1], lst[0]\n",
    "print(f'After the swap: {lst}')\n",
    "\n",
    "\n",
    "# Utilizing a swap function\n",
    "def swap(lst, x, y):\n",
    "    lst[x], lst[y] = lst[y], lst[x]\n",
    "    return lst\n",
    "\n",
    "swap([34,24,8,23], 0, -1)"
   ]
  },
  {
   "cell_type": "markdown",
   "metadata": {},
   "source": [
    "#### Out of Place Algorithm"
   ]
  },
  {
   "cell_type": "code",
   "execution_count": 3,
   "metadata": {},
   "outputs": [
    {
     "name": "stdout",
     "output_type": "stream",
     "text": [
      "Original List: ['a', 'b', 'c', 'd']\n",
      "Effected List: ['d', 'c', 'b', 'a']\n"
     ]
    }
   ],
   "source": [
    "# also known as helper algorithm\n",
    "my_list = ['a', 'b', 'c', 'd']\n",
    "list_copy = my_list[:]\n",
    "\n",
    "for idx in range(len(my_list)):\n",
    "    list_copy[idx] = my_list[len(my_list)-1-idx]\n",
    "\n",
    "print(f'Original List: {my_list}')\n",
    "print(f'Effected List: {list_copy}')"
   ]
  },
  {
   "cell_type": "markdown",
   "metadata": {},
   "source": [
    "#### In-Class Exercise #1 <br>\n",
    "<p>Write a function that takes in four arguments (list, index1, index2, index3), and swaps those three positions in the list passed in.</p>"
   ]
  },
  {
   "cell_type": "code",
   "execution_count": null,
   "metadata": {},
   "outputs": [],
   "source": [
    "l_1 = [10, 4, 3, 8, 4, 2, 6]\n",
    "\n",
    "def my_function(list, index1, index2, index3):\n",
    "     name\n",
    "\n"
   ]
  },
  {
   "cell_type": "markdown",
   "metadata": {},
   "source": [
    "## Two Pointers"
   ]
  },
  {
   "cell_type": "markdown",
   "metadata": {},
   "source": [
    "#### Syntax"
   ]
  },
  {
   "cell_type": "code",
   "execution_count": 14,
   "metadata": {},
   "outputs": [
    {
     "name": "stdout",
     "output_type": "stream",
     "text": [
      "[22, 11, 4, 8, 9, 12, 3, 2, 1]\n"
     ]
    }
   ],
   "source": [
    "test_list = [1,2,3,12,9,8,4,11,22]\n",
    "# use two pointers to swap, can use a while loop in most cases\n",
    "\n",
    "def two_pointers(a_list):\n",
    "    left = 0\n",
    "    right = len(a_list) - 1\n",
    "    while left <= right:\n",
    "        a_list[left], a_list[right] = a_list[right], a_list[left]\n",
    "        left += 1\n",
    "        right -= 1\n",
    "    return a_list\n",
    "\n",
    "print(two_pointers(test_list))\n"
   ]
  },
  {
   "cell_type": "markdown",
   "metadata": {},
   "source": [
    "#### Video of Algorithms <br>\n",
    "<p>Watch the video about algorithms.</p>\n",
    "\n",
    "https://www.youtube.com/watch?v=Q9HjeFD62Uk\n",
    "\n",
    "https://www.youtube.com/watch?v=kPRA0W1kECg\n",
    "\n",
    "https://www.youtube.com/watch?v=ZZuD6iUe3Pc"
   ]
  },
  {
   "cell_type": "markdown",
   "metadata": {},
   "source": [
    "# Sorting Algorithms"
   ]
  },
  {
   "cell_type": "markdown",
   "metadata": {},
   "source": [
    "#### Bubble Sort\n",
    "\n",
    "Worst Case: O(n^2) Time - O(1) Space"
   ]
  },
  {
   "cell_type": "code",
   "execution_count": 16,
   "metadata": {},
   "outputs": [
    {
     "name": "stdout",
     "output_type": "stream",
     "text": [
      "[2, 3, 5, 5, 6, 8, 9]\n"
     ]
    }
   ],
   "source": [
    "# input = [8, 5, 2, 9, 5, 6, 3]\n",
    "# output = [2, 3, 5, 5, 6, 8, 9]\n",
    "\n",
    "def bubbleSort(a_list):\n",
    "    isSorted = False\n",
    "    while not isSorted:\n",
    "        isSorted = True\n",
    "        for idx in range(len(a_list)-1):\n",
    "            if a_list[idx] > a_list[idx + 1]:\n",
    "                a_list[idx], a_list[idx + 1] = a_list[idx + 1], a_list[idx]\n",
    "                isSorted = False\n",
    "    return a_list\n",
    "\n",
    "print(bubbleSort([8, 5, 2, 9, 5, 6, 3]))"
   ]
  },
  {
   "cell_type": "markdown",
   "metadata": {},
   "source": [
    "##### Insertion Sort\n",
    "\n",
    "Worst Case: O(n^2) time - O(1)space"
   ]
  },
  {
   "cell_type": "code",
   "execution_count": 17,
   "metadata": {},
   "outputs": [
    {
     "name": "stdout",
     "output_type": "stream",
     "text": [
      "[2, 3, 5, 5, 6, 8, 9]\n"
     ]
    }
   ],
   "source": [
    "# input = [8, 5, 2, 9, 5, 6, 3]\n",
    "# output = [2, 3, 5, 5, 6, 8, 9]\n",
    "\n",
    "def insertionSort(a_list):\n",
    "    for idx in range(1, len(a_list)):\n",
    "        while idx > 0 and a_list[idx] < a_list[idx - 1]:\n",
    "            a_list[idx], a_list[idx - 1] = a_list[idx - 1], a_list[idx]\n",
    "            idx -= 1\n",
    "    return a_list\n",
    "\n",
    "print(insertionSort([8, 5, 2, 9, 5, 6, 3]))\n"
   ]
  },
  {
   "cell_type": "markdown",
   "metadata": {},
   "source": [
    "## Merge Sort"
   ]
  },
  {
   "cell_type": "markdown",
   "metadata": {},
   "source": [
    "#### How it Works"
   ]
  },
  {
   "cell_type": "code",
   "execution_count": 17,
   "metadata": {},
   "outputs": [
    {
     "name": "stdout",
     "output_type": "stream",
     "text": [
      "Splitting: [8, 5, 2, 9, 5, 6, 3]\n",
      "Splitting: [8, 5, 2]\n",
      "Splitting: [8]\n",
      "Splitting: [5, 2]\n",
      "Splitting: [5]\n",
      "Splitting: [2]\n",
      "Merging: [2, 5]\n",
      "Merging: [2, 5, 8]\n",
      "Splitting: [9, 5, 6, 3]\n",
      "Splitting: [9, 5]\n",
      "Splitting: [9]\n",
      "Splitting: [5]\n",
      "Merging: [5, 9]\n",
      "Splitting: [6, 3]\n",
      "Splitting: [6]\n",
      "Splitting: [3]\n",
      "Merging: [3, 6]\n",
      "Merging: [3, 5, 6, 9]\n",
      "Merging: [2, 3, 5, 5, 6, 8, 9]\n"
     ]
    },
    {
     "data": {
      "text/plain": [
       "[2, 3, 5, 5, 6, 8, 9]"
      ]
     },
     "execution_count": 17,
     "metadata": {},
     "output_type": "execute_result"
    }
   ],
   "source": [
    "# input = [8, 5, 2, 9, 5, 6, 3]\n",
    "# output = [2, 3, 5, 5, 6, 8, 9]\n",
    "\n",
    "# Step 1: Split the list into sublists\n",
    "# ------------------------------------------------------------------\n",
    "def mergeSort(a_list):\n",
    "    print(f'Splitting: {a_list}')\n",
    "    if len(a_list) > 1:\n",
    "        middleIdx = len(a_list) // 2\n",
    "        leftHalf = a_list[:middleIdx]\n",
    "        rightHalf = a_list[middleIdx:]\n",
    "\n",
    "        # recursively call mergeSort to merge sublists\n",
    "        mergeSort(leftHalf)\n",
    "        mergeSort(rightHalf)\n",
    "\n",
    "        # Step 2: Compare leftHalf to rightHalf and Merge\n",
    "        #--------------------------------------------------------------\n",
    "        # index pointers\n",
    "        i = 0 # pointer for left half\n",
    "        j = 0 # pointer for right half\n",
    "        k = 0 # pointer for main list\n",
    "\n",
    "        while i < len(leftHalf) and j < len(rightHalf):\n",
    "            if leftHalf[i] <= rightHalf[j]:\n",
    "                a_list[k] = leftHalf[i]\n",
    "                i += 1\n",
    "            else:\n",
    "                a_list[k] = rightHalf[j]\n",
    "                j += 1\n",
    "            k += 1\n",
    "        \n",
    "        # Step 3: Account for the numbers that are still remaining in either the leftHalf or rightHalf.\n",
    "        while i < len(leftHalf):\n",
    "            a_list[k] = leftHalf[i]\n",
    "            i += 1\n",
    "            k += 1\n",
    "        \n",
    "        while j < len(rightHalf):\n",
    "            a_list[k] = rightHalf[j]\n",
    "            j += 1\n",
    "            k += 1\n",
    "        print(f'Merging: {a_list}')\n",
    "        return a_list\n",
    "    \n",
    "mergeSort([8, 5, 2, 9, 5, 6, 3])\n",
    "\n"
   ]
  },
  {
   "cell_type": "markdown",
   "metadata": {},
   "source": [
    "# Binary Search\n",
    "\n",
    "The Binary Search algorithm works by finding the number in the middle of a given array and comparing it to the target. Given that the array is sorted\n",
    "\n",
    "* The worst case run time for this algorithm is `O(log(n))`"
   ]
  },
  {
   "cell_type": "code",
   "execution_count": 20,
   "metadata": {},
   "outputs": [
    {
     "data": {
      "text/plain": [
       "'Found 33 at index position 3'"
      ]
     },
     "execution_count": 20,
     "metadata": {},
     "output_type": "execute_result"
    }
   ],
   "source": [
    "# input: [0, 1, 21, 33, 45, 45, 61, 71, 72, 73], 33\n",
    "\n",
    "def binarySearch(a_list, target):\n",
    "    left = 0\n",
    "    right = len(a_list)\n",
    "    while left <= right:\n",
    "        middle = (left + right) // 2\n",
    "        potential_match = a_list[middle]\n",
    "        if target == potential_match:\n",
    "            return f'Found {target} at index position {middle}'\n",
    "        elif target < potential_match:\n",
    "            right = middle - 1\n",
    "        else:\n",
    "            left = middle + 1\n",
    "    return 'Number not found!'\n",
    "\n",
    "binarySearch([0, 1, 21, 33, 45, 45, 61, 71, 72, 73], 33)"
   ]
  },
  {
   "cell_type": "markdown",
   "metadata": {},
   "source": [
    "# Exercises"
   ]
  },
  {
   "cell_type": "markdown",
   "metadata": {},
   "source": [
    "### Exercise #1 <br>\n",
    "<p>Reverse the list below in-place using an in-place algorithm.<br>For extra credit: Reverse the strings at the same time.</p>"
   ]
  },
  {
   "cell_type": "code",
   "execution_count": 1,
   "metadata": {},
   "outputs": [
    {
     "name": "stdout",
     "output_type": "stream",
     "text": [
      "['.', 'ecnetnes', 'a', 'si', 'siht']\n"
     ]
    }
   ],
   "source": [
    "words = ['this' , 'is', 'a', 'sentence', '.']\n",
    "back_words = []\n",
    "for word in words:\n",
    "    words = word[::-1]\n",
    "    back_words.append(word[::-1])\n",
    "\n",
    "back_words[0], back_words[4] = back_words[4], back_words[0]\n",
    "back_words[1], back_words[3] = back_words[3], back_words[1]\n",
    "print(back_words)\n"
   ]
  },
  {
   "cell_type": "markdown",
   "metadata": {},
   "source": [
    "### Exercise #2 <br>\n",
    "<p>Create a function that counts how many distinct words are in the string below, then outputs a dictionary with the words as the key and the value as the amount of times that word appears in the string.<br>Should output:<br>{'a': 5,<br>\n",
    " 'abstract': 1,<br>\n",
    " 'an': 3,<br>\n",
    " 'array': 2, ... etc...</p>"
   ]
  },
  {
   "cell_type": "code",
   "execution_count": 2,
   "metadata": {},
   "outputs": [
    {
     "data": {
      "text/plain": [
       "{'a': 5,\n",
       " 'abstract': 1,\n",
       " 'an': 3,\n",
       " 'array': 2,\n",
       " 'associative': 1,\n",
       " 'be': 1,\n",
       " 'buckets': 1,\n",
       " 'can': 2,\n",
       " 'compute': 1,\n",
       " 'computing,': 1,\n",
       " 'data': 2,\n",
       " 'desired': 1,\n",
       " 'found': 1,\n",
       " 'from': 1,\n",
       " 'function': 1,\n",
       " 'hash': 4,\n",
       " 'implements': 1,\n",
       " 'in': 1,\n",
       " 'index': 1,\n",
       " 'into': 1,\n",
       " 'is': 1,\n",
       " 'keys': 1,\n",
       " 'map': 2,\n",
       " 'of': 1,\n",
       " 'or': 1,\n",
       " 'slots': 1,\n",
       " 'structure': 2,\n",
       " 'table': 2,\n",
       " 'that': 1,\n",
       " 'the': 1,\n",
       " 'to': 2,\n",
       " 'type,': 1,\n",
       " 'uses': 1,\n",
       " 'value': 1,\n",
       " 'values.': 1,\n",
       " 'which': 2}"
      ]
     },
     "execution_count": 2,
     "metadata": {},
     "output_type": "execute_result"
    }
   ],
   "source": [
    "a_text = 'In computing, a hash table hash map is a data structure which implements an associative array abstract data type, a structure that can map keys to values. A hash table uses a hash function to compute an index into an array of buckets or slots from which the desired value can be found'\n",
    "def counts_text(your_string):\n",
    "    your_string= your_string.lower().split(\" \")\n",
    "    dictionary = {}\n",
    "    for text in your_string:\n",
    "        dictionary[text] = your_string.count(text)\n",
    "    return dict(sorted(dictionary.items()))\n",
    "\n",
    "counts_text(a_text)\n",
    "\n",
    "\n",
    "\n",
    "\n",
    "\n",
    "\n"
   ]
  },
  {
   "cell_type": "markdown",
   "metadata": {},
   "source": [
    "## Exercise #3\n",
    "\n",
    "Write a program to implement a Linear Search Algorithm. Also in a comment, write the Time Complexity of the following algorithm.\n",
    "\n",
    "#### Hint: Linear Searching will require searching a list for a given number. "
   ]
  },
  {
   "cell_type": "code",
   "execution_count": 3,
   "metadata": {},
   "outputs": [
    {
     "name": "stdout",
     "output_type": "stream",
     "text": [
      "[5, 5]\n"
     ]
    }
   ],
   "source": [
    "# sample list below:\n",
    "\n",
    "numbers = [3,6,4,2,4,5,8,9,6,5,6]\n",
    "given_number = 5\n",
    "not_needed = []\n",
    "matched = []\n",
    "for number in numbers:\n",
    "    if number != given_number:\n",
    "        not_needed.append(number)\n",
    "    elif number == given_number:\n",
    "        matched.append(number)\n",
    "\n",
    "print(matched)\n"
   ]
  }
 ],
 "metadata": {
  "kernelspec": {
   "display_name": "Python 3.10.7 64-bit",
   "language": "python",
   "name": "python3"
  },
  "language_info": {
   "codemirror_mode": {
    "name": "ipython",
    "version": 3
   },
   "file_extension": ".py",
   "mimetype": "text/x-python",
   "name": "python",
   "nbconvert_exporter": "python",
   "pygments_lexer": "ipython3",
   "version": "3.10.7"
  },
  "vscode": {
   "interpreter": {
    "hash": "eff668cd27429cb04355947873f2ab8255443f18fdd0a93a668481bf941d10dd"
   }
  }
 },
 "nbformat": 4,
 "nbformat_minor": 2
}
